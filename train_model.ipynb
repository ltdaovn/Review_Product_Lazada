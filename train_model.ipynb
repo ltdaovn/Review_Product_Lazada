{
  "nbformat": 4,
  "nbformat_minor": 0,
  "metadata": {
    "kernelspec": {
      "display_name": "Python 3",
      "language": "python",
      "name": "python3"
    },
    "language_info": {
      "codemirror_mode": {
        "name": "ipython",
        "version": 3
      },
      "file_extension": ".py",
      "mimetype": "text/x-python",
      "name": "python",
      "nbconvert_exporter": "python",
      "pygments_lexer": "ipython3",
      "version": "3.7.3"
    },
    "colab": {
      "name": "train_model.ipynb",
      "provenance": [],
      "include_colab_link": true
    }
  },
  "cells": [
    {
      "cell_type": "markdown",
      "metadata": {
        "id": "view-in-github",
        "colab_type": "text"
      },
      "source": [
        "<a href=\"https://colab.research.google.com/github/ltdaovn/Review_Product_Lazada/blob/main/train_model.ipynb\" target=\"_parent\"><img src=\"https://colab.research.google.com/assets/colab-badge.svg\" alt=\"Open In Colab\"/></a>"
      ]
    },
    {
      "cell_type": "code",
      "metadata": {
        "id": "oFvlUn9tAq5e"
      },
      "source": [
        "!pip install transformers"
      ],
      "execution_count": null,
      "outputs": []
    },
    {
      "cell_type": "code",
      "metadata": {
        "id": "mQ8_oi5f3OSI"
      },
      "source": [
        "import numpy as np\n",
        "import pandas as pd\n",
        "from sklearn.model_selection import train_test_split\n",
        "from sklearn.linear_model import LogisticRegression\n",
        "from sklearn.model_selection import GridSearchCV\n",
        "from sklearn.model_selection import cross_val_score\n",
        "import torch\n",
        "import transformers\n",
        "from transformers import BertModel, BertTokenizer\n",
        "from sklearn.externals import joblib"
      ],
      "execution_count": null,
      "outputs": []
    },
    {
      "cell_type": "markdown",
      "metadata": {
        "id": "WT9Q1HH-3OSO"
      },
      "source": [
        "# Load data comment "
      ]
    },
    {
      "cell_type": "code",
      "metadata": {
        "id": "wsrNFCTI3OSS"
      },
      "source": [
        "data_path = 'https://raw.githubusercontent.com/ltdaovn/Review_Product_Lazada/main/data_crawler.csv'\n",
        "df = pd.read_csv(data_path, delimiter='\\t', header=None)\n",
        "print(df.shape)\n",
        "# get all rows\n",
        "# print(df[0]) "
      ],
      "execution_count": null,
      "outputs": []
    },
    {
      "cell_type": "markdown",
      "metadata": {
        "id": "tqQdry9G3OST"
      },
      "source": [
        "# Load Pretrain model BERT"
      ]
    },
    {
      "cell_type": "code",
      "metadata": {
        "id": "abrpyJqj3OSU"
      },
      "source": [
        "'''\n",
        "Load pretrain model/ tokenizers\n",
        "'''\n",
        "model = BertModel.from_pretrained('bert-base-uncased')\n",
        "tokenizer = BertTokenizer.from_pretrained('bert-base-uncased')\n",
        "\n",
        "#encode lines\n",
        "tokenized = df[0].apply((lambda x: tokenizer.encode(x, add_special_tokens = True)))\n",
        "print('encode',tokenized[1])\n",
        "# decode\n",
        "print('decode',tokenizer.decode(tokenized[1]))"
      ],
      "execution_count": null,
      "outputs": []
    },
    {
      "cell_type": "markdown",
      "metadata": {
        "id": "vgFQlK1n3OSW"
      },
      "source": [
        "# Fine tuning model and save model"
      ]
    },
    {
      "cell_type": "code",
      "metadata": {
        "id": "6EzEVl-03OSY"
      },
      "source": [
        "#get all label \n",
        "labels = np.zeros(len(df[0]))\n",
        "for i in range(len(df[0])):\n",
        "    labels[i] = df[0][i][-1]\n",
        "print('labels shape:', labels.shape)\n",
        "\n",
        "# get lenght max of tokenized\n",
        "max_len = 0\n",
        "for i in tokenized.values:\n",
        "    if len(i) > max_len:\n",
        "        max_len = len(i)\n",
        "print('max len:', max_len)\n",
        "\n",
        "# if lenght of tokenized not equal max_len , so padding value 0\n",
        "padded = np.array([i + [0]*(max_len-len(i)) for i in tokenized.values])\n",
        "print('padded:', padded[1])\n",
        "print('len padded:', padded.shape)\n",
        "\n",
        "#get attention mask ( 0: not has word, 1: has word)\n",
        "attention_mask = np.where(padded ==0, 0,1)\n",
        "print('attention mask:', attention_mask[1])\n",
        "\n",
        "# Convert input to tensor\n",
        "padded = torch.tensor(padded)\n",
        "attention_mask = torch.tensor(attention_mask)\n",
        "\n",
        "\n",
        "# Train model\n",
        "with torch.no_grad():\n",
        "    last_hidden_states = model(padded, attention_mask =attention_mask)\n",
        "#     print('last hidden states:', last_hidden_states)\n",
        "\n",
        "features = last_hidden_states[0][:,0,:].numpy()\n",
        "print('features:', features)\n",
        "\n",
        "X_train, X_test, y_train, y_test = train_test_split(features, labels)\n",
        "\n",
        "cl = LogisticRegression()\n",
        "cl.fit(X_train, y_train)\n",
        "\n",
        "# Save model\n",
        "joblib.dump(cl, 'save_model.pkl')\n",
        "sc = cl.score(X_test, y_test)\n",
        "print('score:', sc)\n"
      ],
      "execution_count": null,
      "outputs": []
    }
  ]
}